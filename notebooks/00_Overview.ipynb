{
 "cells": [
  {
   "cell_type": "markdown",
   "id": "20983833-dea0-4a1e-99ac-1f5892f8c2b1",
   "metadata": {},
   "source": [
    "# Unsupervised classification of vocalisations of the northern goshawk"
   ]
  },
  {
   "cell_type": "markdown",
   "id": "d549cd78-9f8a-4424-8f9e-922fe216d52c",
   "metadata": {},
   "source": [
    "## Introduction\n",
    "The characteristic habitats of the northern goshawk (_Accipiter gentilis_) are extended conifer\n",
    "or deciduous forests with a dense canopy. Due to the bird’s secretive nature, well-hidden\n",
    "nests and extended foraging area, it often goes undetected during surveys, except by its\n",
    "vocalisations ([Watson et al., 1999]. Identifying the vocalisations of the goshawk is therefore a good method for detecting their presence [Roberson et al., 2001]. \n",
    "\n",
    "The [Xeno-Canto](http://xeno-canto.org) website is a searchable repository for crowdsourced, good quality, freely distributed recordings of bird vocalisations. Recordings downloaded from Xeno-Canto were used to identify different types of calls. The categories were obtained by applying unsupervised machine learning computer techniques. Finally, a bayesian analysis was used to find correlations between call categories and the stages of the annual breeding cycle, thus providing a clue to the type of interaction implied by the call."
   ]
  },
  {
   "cell_type": "markdown",
   "id": "023abdbb-d7ea-4ee1-99dc-530ae0dc8178",
   "metadata": {},
   "source": [
    "## Previous work\n",
    "\n",
    "### Types of vocalisations\n",
    "Gromme [1935] describes the vocal interaction between nestlings and female as well as between\n",
    "male and female. Schnell [1958] lists the calls of females, males and nestlings/fledglings, and\n",
    "provides a detailed description of the associated behaviour for each call. Gromme [1935] and Schnell [1958] obtained their data through direct observations from a hide. Kennedy and Stahlecker\n",
    "[1993] and Roberson et al. [2001] conducted surveys using broadcasts of taped calls and used three\n",
    "types of calls in each study. Roberson et al. [2001] distinguish between 3 con-specific calls (alarm\n",
    "call, male contact call and juvenile begging call). Penteriani [2001] lists six types of calls used by\n",
    "adults, and five types of calls used by fledglings. Penteriani [2001] observed one pair of goshawks\n",
    "during a prolonged period of time.\n",
    "The types of call retained by most researchers are described in table 1."
   ]
  },
  {
   "cell_type": "markdown",
   "id": "ce382dac-9a89-465e-ab62-a2884b98b3bf",
   "metadata": {},
   "source": [
    "Table 1: Common calls of the goshawk.\n",
    "\n",
    "|Call | Transcription | Description |\n",
    "| --- | ------------- | ----------- |\n",
    "|Single-note call | _kek..._ |Single-note call interpreted as mate contact call [Penteriani, 2001, Schnell, 1958], male contact call [Roberson et al., 2001], recognition call prior to food transfer [Schnell, 1958].|\n",
    "|Chattering | _kek-kek-kek_ | Adults and juveniles. Alarm call directed towards an intruder or predator [Kennedy and Stahlecker,1993]. Call to attract mates during courtship [Penteriani, 2001]. Defense cackle [Schnell, 1958]. Battle- cry [Gromme, 1935].|\n",
    "|Female wailing call | _whee-oo... whee-oo_ | Exclusively a female call [Penteriani, 2001], communication between members of a pair [Kennedy and Stahlecker, 1993]. Recognition of mate, upon food delivery during nesting [Penteriani, 2001, Schnell, 1958]. Female on guard, appeal for food [Gromme, 1935]. |\n",
    "|Juvenile call | _whee... whee... whee_ | Fledged young, food begging and location call [Penteriani, 2001].|"
   ]
  },
  {
   "cell_type": "markdown",
   "id": "2b43f7ed-3614-44d4-92f4-cc9705a58ec3",
   "metadata": {},
   "source": [
    "### Annual breeding cycle\n",
    "\n",
    "The annual breeding cycle as described by Penteriani [2001] is summarised in table 2."
   ]
  },
  {
   "cell_type": "markdown",
   "id": "4e72e2dd-fc30-4447-bd29-dab5a33fbd9a",
   "metadata": {},
   "source": [
    "Table 2: Goshawks’ breeding cycle (based on Penteriani [2001]).\n",
    "\n",
    "|Period | Non-breeding | Territory-building, courtship | Incubation and nesting   | Fledging |\n",
    "| ----- | ------------ | ----------------------------- | ------------------------ | -------- |\n",
    "|Start  | September    | February                      | April                    | July     |\n",
    "|End    | January      | March                         | June                     | August   |\n",
    "\n"
   ]
  },
  {
   "cell_type": "markdown",
   "id": "1065b20d-6b11-41c4-b682-72863144278d",
   "metadata": {},
   "source": [
    "## Data and methods\n",
    "\n",
    "Data was obtained and processed in 5 Jupyter notebooks. The first 4 form a machine learning pipeline. The last notebook presents the results.\n",
    "\n",
    "**Notebook 1: Download data**<br/>\n",
    "Audio data was obtained from Xeno-Canto. \n",
    "\n",
    "**Notebook 2: Plot spectrograms**<br/>\n",
    "The data is split into training, validation and test data sets. Audio data is represented using spectrograms. \n",
    "\n",
    "**Notebook 3: Extract features**<br/>\n",
    "Extract high-level features from the spectrograms using transfer learning from a pretrained model.\n",
    "\n",
    "**Notebook 4: Unsupervised clustering**<br/>\n",
    "Using high level features, the audio data are classified using an unsupervised clustering algorithm. \n",
    "\n",
    "**Notebook 5: Discussion and conclusion**<br/>\n",
    "A bayesian analysis attempts to find significant correlations between the discovered categories and the stages of the annual breeding cycle. "
   ]
  },
  {
   "cell_type": "markdown",
   "id": "73c3aa2c-1220-4cfb-aca4-4ecac20e6725",
   "metadata": {},
   "source": [
    "## References\n",
    "\n",
    "O. Gromme. The goshawk (astur atricapillus atricapillus) nesting in wisconsin. The Auk, pages\n",
    "15–20, 1935.\n",
    "\n",
    "P. Kennedy and D. Stahlecker. Responsiveness of nesting northern goshawks to taped broadcasts\n",
    "of 3 conspecific calls. The Journal of wildlife management, pages 249–257, 1993.\n",
    "\n",
    "V. Penteriani. The annual and diel cycles of goshawk vocalizations at nest sites. Journal of Raptor Research, 35(1):24–30, 2001.\n",
    "\n",
    "A. Roberson et al. Evaluating and developing survey techniques using broadcast conspecific calls for northern goshawks in minnesota. 2001.\n",
    "\n",
    "J. Schnell. Nesting behavior and food habits of goshawks in the sierra nevada of california. The Condor, 60(6):377–403, 1958.\n",
    "\n",
    "J. Sueur, T. Aubin, and C. Simonis. Seewave: a free modular tool for sound analysis and synthesis. Bioacoustics, 18:213–226, 2008. URL http://isyeb.mnhn.fr/IMG/pdf/sueuretal_bioacoustics_2008.pdf.\n",
    "\n",
    "J. Watson, D. Hays, and D. Pierce. Efficacy of northern goshawk broadcast surveys in washington state. The Journal of wildlife management, pages 98–106, 1999."
   ]
  },
  {
   "cell_type": "code",
   "execution_count": null,
   "id": "3e56690a-3f1c-4f27-8d03-4fffbb07ab44",
   "metadata": {},
   "outputs": [],
   "source": []
  }
 ],
 "metadata": {
  "kernelspec": {
   "display_name": "Python 3 (ipykernel)",
   "language": "python",
   "name": "python3"
  },
  "language_info": {
   "codemirror_mode": {
    "name": "ipython",
    "version": 3
   },
   "file_extension": ".py",
   "mimetype": "text/x-python",
   "name": "python",
   "nbconvert_exporter": "python",
   "pygments_lexer": "ipython3",
   "version": "3.10.6"
  }
 },
 "nbformat": 4,
 "nbformat_minor": 5
}

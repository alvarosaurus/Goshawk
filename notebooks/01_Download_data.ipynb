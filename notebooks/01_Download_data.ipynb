{
 "cells": [
  {
   "cell_type": "markdown",
   "id": "08fd1ea1-b2e6-428a-88d5-0819bf83db63",
   "metadata": {},
   "source": [
    "# Download data\n",
    "\n",
    "The Xeno-Canto website provides an online form for querying the audio database and downloading the results as a csv file, which includes the id's of the recordings (but not the recordings as such). \n",
    "\n",
    "The database was queried for recordings of goshawks as the foreground species, with a quality rating of A. The result set has 186 entries (https://xeno-canto.org/set/8005)."
   ]
  },
  {
   "cell_type": "code",
   "execution_count": 1,
   "id": "f7e4e52b-55eb-4858-a366-979995680265",
   "metadata": {},
   "outputs": [
    {
     "ename": "NameError",
     "evalue": "name 'df_original' is not defined",
     "output_type": "error",
     "traceback": [
      "\u001b[0;31m---------------------------------------------------------------------------\u001b[0m",
      "\u001b[0;31mNameError\u001b[0m                                 Traceback (most recent call last)",
      "Cell \u001b[0;32mIn [1], line 13\u001b[0m\n\u001b[1;32m     11\u001b[0m     df_original\u001b[38;5;241m.\u001b[39mto_csv(filename_original)\n\u001b[1;32m     12\u001b[0m \u001b[38;5;28;01melse\u001b[39;00m:\n\u001b[0;32m---> 13\u001b[0m     \u001b[43mdf_original\u001b[49m\u001b[38;5;241m.\u001b[39mread_csv(filename_original)\n",
      "\u001b[0;31mNameError\u001b[0m: name 'df_original' is not defined"
     ]
    }
   ],
   "source": [
    "import pandas as pd\n",
    "from os.path import exists\n",
    "\n",
    "filename_original = './data/Accipiter_gentilis_xeno_canto_20220921.csv'\n",
    "if not exists(filename_original):\n",
    "    # download the query results\n",
    "    url = 'https://xeno-canto.org/explore/csv?query=accipiter%20gentilis%20q:A'\n",
    "    df_original = pd.read_csv(url)\n",
    "\n",
    "    # save the original data set to file\n",
    "    df_original.to_csv(filename_original)\n",
    "\n",
    "else:\n",
    "    df_original = pd.read_csv(filename_original)"
   ]
  },
  {
   "cell_type": "markdown",
   "id": "2bbd1a95-b56f-41bb-8e80-dd5af2773049",
   "metadata": {},
   "source": [
    "## Augment the data\n",
    "The downloaded data was augmented with columns for month, stage in the breeding cycle (table 1), sex and life stage (adult/juvenile/fledgling)."
   ]
  },
  {
   "cell_type": "code",
   "execution_count": null,
   "id": "312ddb7b-557a-4767-9f2a-6594524074b1",
   "metadata": {},
   "outputs": [],
   "source": [
    "import datetime\n",
    "\n",
    "# add columns with the month and the corresponding stage in the breeding cycle, as in table 1\n",
    "df = df_original\n",
    "\n",
    "def get_breeding_stage(date):\n",
    "    breeding_stages = {\n",
    "        9:'Non-breeding', 10:'Non-breeding', 11:'Non-breeding', 12:'Non-breeding', 1:'Non-breeding',\n",
    "        2:'Territory-building, courtship', 3:'Territory-building, courtship',\n",
    "        4:'Incubation and nesting', 5:'Incubation and nesting', 6:'Incubation and nesting',\n",
    "        7:'Fledging', 8:'Fledging'\n",
    "    }\n",
    "    month = get_month(date)\n",
    "    if month:\n",
    "        return breeding_stages[month]\n",
    "    else:\n",
    "        return None\n",
    "\n",
    "def get_month(date):\n",
    "    try:\n",
    "        month = datetime.datetime.strptime(date, \"%Y-%m-%d\").month\n",
    "        return month\n",
    "    except:\n",
    "        return None\n",
    "\n",
    "df['month'] = df['Date'].apply(get_month)\n",
    "df['breeding stage'] = df['Date'].apply(get_breeding_stage)"
   ]
  },
  {
   "cell_type": "code",
   "execution_count": null,
   "id": "92606113-2d11-45c5-8abb-b5f42eac3fea",
   "metadata": {},
   "outputs": [],
   "source": [
    "# add a columns with life stage and sex\n",
    "def get_sex(songtype):\n",
    "    if 'male' in songtype:\n",
    "        return 'male'\n",
    "    elif 'female' in songtype:\n",
    "        return 'female'\n",
    "    else:\n",
    "        return None \n",
    "\n",
    "def get_life_stage(songtype):\n",
    "    if 'adult' in songtype:\n",
    "        return 'adult'\n",
    "    elif 'juvenile' in songtype:\n",
    "        return 'juvenile'\n",
    "    elif 'fledgling' in songtype:\n",
    "        return 'fledgling'\n",
    "    \n",
    "df['sex'] = df['Songtype'].apply(get_sex)\n",
    "df['life_stage'] = df['Songtype'].apply(get_life_stage)"
   ]
  },
  {
   "cell_type": "code",
   "execution_count": null,
   "id": "6bbc6338-e0c3-453d-ae6c-e408b97a57ad",
   "metadata": {},
   "outputs": [],
   "source": [
    "# save the augmented data\n",
    "df.to_csv('data/Accipiter_gentilis.csv')"
   ]
  },
  {
   "cell_type": "markdown",
   "id": "2edce85e-e232-4cc3-b28f-1b4659e705d5",
   "metadata": {},
   "source": [
    "## Download audio files"
   ]
  },
  {
   "cell_type": "code",
   "execution_count": null,
   "id": "c7494f95-5167-430c-93cd-4d02f6eb4843",
   "metadata": {},
   "outputs": [],
   "source": [
    "from os.path import exists\n",
    "import requests\n",
    "\n",
    "def download_file(url, filename):\n",
    "    r = requests.get(url)\n",
    "    with open(filename,'wb') as output_file:\n",
    "        output_file.write(r.content)\n",
    "\n",
    "for cat_num in df['Catalogue number']:\n",
    "    url = 'https://xeno-canto.org/%s/download' % cat_num\n",
    "    filename = './data/audio/%s.mp3' % cat_num\n",
    "    if not exists(filename):\n",
    "        download_file(url, filename)"
   ]
  },
  {
   "cell_type": "code",
   "execution_count": null,
   "id": "b5f4ee4c-f8b8-4e64-a71b-62b7a8d80d5c",
   "metadata": {},
   "outputs": [],
   "source": [
    "df.head(3)"
   ]
  },
  {
   "cell_type": "code",
   "execution_count": null,
   "id": "66339c89-7fee-418f-a569-2b355242d4b8",
   "metadata": {},
   "outputs": [],
   "source": []
  }
 ],
 "metadata": {
  "kernelspec": {
   "display_name": "Python 3 (ipykernel)",
   "language": "python",
   "name": "python3"
  },
  "language_info": {
   "codemirror_mode": {
    "name": "ipython",
    "version": 3
   },
   "file_extension": ".py",
   "mimetype": "text/x-python",
   "name": "python",
   "nbconvert_exporter": "python",
   "pygments_lexer": "ipython3",
   "version": "3.10.6"
  }
 },
 "nbformat": 4,
 "nbformat_minor": 5
}

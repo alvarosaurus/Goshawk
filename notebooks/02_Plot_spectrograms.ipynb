{
 "cells": [
  {
   "cell_type": "markdown",
   "id": "c9fb59c9-d0ac-4194-9bab-0b0fc4561033",
   "metadata": {},
   "source": [
    "# Notebook 2: Plot spectrograms"
   ]
  },
  {
   "cell_type": "markdown",
   "id": "2bcc844d-5a1a-4812-8008-34fae513d9f9",
   "metadata": {},
   "source": [
    "## Train, test validate split\n",
    "The data is split into training (70%), validation (20%) and test (10%) data, for training the model. The main hypothesis is that each call corresponds to a breeding stage. The number of items per breeding stage is imbalanced, splitting the dataset takes this into account by setting the stratify parameter to the 'breeding stage' column."
   ]
  },
  {
   "cell_type": "code",
   "execution_count": 1,
   "id": "a21fa4c8-cb00-418c-b30d-91caca46a575",
   "metadata": {},
   "outputs": [
    {
     "name": "stdout",
     "output_type": "stream",
     "text": [
      "The training dataset has 129 entries, the validation dataset 36, the testing dataset 20.\n"
     ]
    }
   ],
   "source": [
    "import pandas as pd\n",
    "from sklearn.model_selection import train_test_split\n",
    "\n",
    "# load audio metadata\n",
    "df = pd.read_csv('./data/Accipiter_gentilis.csv')\n",
    "\n",
    "df_train, df_test = train_test_split(df, train_size=0.7, stratify=df['breeding stage'], random_state=0)\n",
    "df_validate, df_test = train_test_split(df_test, train_size=0.66, stratify=df_test['breeding stage'], random_state=0)\n",
    "print('The training dataset has {} entries, the validation dataset {}, the testing dataset {}.'.format(\n",
    "        len(df_train), len(df_validate), len(df_test)))"
   ]
  },
  {
   "cell_type": "markdown",
   "id": "6e27ee21-233c-4ff8-95d0-2cb041cddb42",
   "metadata": {},
   "source": [
    "## Plotting\n",
    "A spectrogram is plotted for each audio file. Spectrograms are stored in separate forlders for train, validate and test data sets."
   ]
  },
  {
   "cell_type": "code",
   "execution_count": 2,
   "id": "d7fd81a6-dada-4bc2-a138-e1d90478dac7",
   "metadata": {
    "tags": []
   },
   "outputs": [],
   "source": [
    "import librosa\n",
    "import librosa.display\n",
    "import pandas as pd\n",
    "import matplotlib.pyplot as plt\n",
    "import subprocess\n",
    "from os.path import exists\n",
    "\n",
    "def decode(mp3_audio_path, wav_audio_path):\n",
    "    \"\"\"Decode an mp3 file to wav, convert mono to stereo, normalize to -1 dB, save\"\"\"\n",
    "    resp = subprocess.call([\n",
    "        'sox', mp3_audio_path, wav_audio_path, 'remix', '-', 'norm', '-1'\n",
    "    ])\n",
    "    if resp != 0:\n",
    "        raise RuntimeError(\"Call to external converter failed with error code %d.\" % (resp))\n",
    "\n",
    "def plot_spec(audio_path, img_path):\n",
    "    \"\"\"Plot a simple spectrogram for processing\"\"\"\n",
    "    # load data from file into numpy.array\n",
    "    data, sample_rate = librosa.load(audio_path)\n",
    "    # do fourier transform\n",
    "    data_ft = librosa.stft(data)\n",
    "    data_db = librosa.amplitude_to_db(abs(data_ft))\n",
    "    plt.figure(figsize=(14, 5))\n",
    "    librosa.display.specshow(data_db, cmap='gray_r', sr=sample_rate)\n",
    "    plt.savefig(img_path)\n",
    "    plt.close() # close the figure\n",
    "\n",
    "def plot_set(df_set, set_name):\n",
    "    \"\"\"Plot a set and store the spectrograms in the corresponding dirs\"\"\"\n",
    "    for cat_num in df_set['Catalogue number']:\n",
    "        mp3_audio_path = './data/audio/%s.mp3' % cat_num\n",
    "        wav_audio_path = './data/audio/%s.wav' % cat_num\n",
    "        img_path = './data/spec/%s/%s.png' % (set_name, cat_num)\n",
    "        if not exists(img_path):\n",
    "            decode(mp3_audio_path, wav_audio_path)\n",
    "            plot_spec(wav_audio_path, img_path)"
   ]
  },
  {
   "cell_type": "code",
   "execution_count": 3,
   "id": "498a4dc7-b716-4080-a05c-759efff679b3",
   "metadata": {},
   "outputs": [],
   "source": [
    "plot_set(df_train, 'train')\n",
    "plot_set(df_test, 'test')\n",
    "plot_set(df_validate, 'validate')"
   ]
  },
  {
   "cell_type": "code",
   "execution_count": null,
   "id": "56687016-e5b2-44db-950c-ae66571009ba",
   "metadata": {},
   "outputs": [],
   "source": []
  }
 ],
 "metadata": {
  "kernelspec": {
   "display_name": "Python 3 (ipykernel)",
   "language": "python",
   "name": "python3"
  },
  "language_info": {
   "codemirror_mode": {
    "name": "ipython",
    "version": 3
   },
   "file_extension": ".py",
   "mimetype": "text/x-python",
   "name": "python",
   "nbconvert_exporter": "python",
   "pygments_lexer": "ipython3",
   "version": "3.10.6"
  }
 },
 "nbformat": 4,
 "nbformat_minor": 5
}
